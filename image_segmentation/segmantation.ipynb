{
 "cells": [
  {
   "cell_type": "code",
   "execution_count": 17,
   "metadata": {},
   "outputs": [],
   "source": [
    "import cv2\n",
    "import numpy as np\n",
    "\n",
    "def segment_plant(image_path):\n",
    "    image = cv2.imread(image_path)  # Read the image\n",
    "    if image is None:\n",
    "        print(\"Error: Could not read the image. Check file path and format.\")\n",
    "        return None\n",
    "    \n",
    "    hsv = cv2.cvtColor(image, cv2.COLOR_BGR2HSV)  # Convert to HSV color space\n",
    "    \n",
    "    # Define green color range for segmentation\n",
    "    lower_green = np.array([25, 40, 40])\n",
    "    upper_green = np.array([90, 255, 255])\n",
    "    \n",
    "    mask = cv2.inRange(hsv, lower_green, upper_green)  # Create mask for green regions\n",
    "    result = cv2.bitwise_and(image, image, mask=mask)  # Apply mask to the image\n",
    "    \n",
    "    return result\n",
    "\n",
    "# Example Usage\n",
    "segmented_image = segment_plant(\"R.jpg\")  # Load your image\n",
    "if segmented_image is not None:\n",
    "    cv2.imwrite(\"segmented_oip.jpg\", segmented_image)  # Save segmented image\n",
    "    cv2.imshow(\"Segmented Image\", segmented_image)  # Display the image\n",
    "    cv2.waitKey(0)\n",
    "    cv2.destroyAllWindows()\n",
    "\n",
    "\n"
   ]
  },
  {
   "cell_type": "code",
   "execution_count": 21,
   "metadata": {},
   "outputs": [
    {
     "name": "stdout",
     "output_type": "stream",
     "text": [
      "Error: Could not read segmented image.\n"
     ]
    }
   ],
   "source": [
    "import cv2\n",
    "import numpy as np\n",
    "\n",
    "def count_leaves(segmented_image):\n",
    "    gray = cv2.cvtColor(segmented_image, cv2.COLOR_BGR2GRAY)  # Convert to grayscale\n",
    "    blurred = cv2.GaussianBlur(gray, (5, 5), 0)  # Apply Gaussian blur\n",
    "    edges = cv2.Canny(blurred, 50, 150)  # Detect edges using Canny edge detection\n",
    "    \n",
    "    contours, _ = cv2.findContours(edges, cv2.RETR_EXTERNAL, cv2.CHAIN_APPROX_SIMPLE)\n",
    "    \n",
    "    return len(contours)  # Return the number of detected leaf-like structures\n",
    "\n",
    "# Example Usage\n",
    "segmented_image = cv2.imread(\"segmented_oip.jpeg\")  # Load the segmented image\n",
    "if segmented_image is None:\n",
    "    print(\"Error: Could not read segmented image.\")\n",
    "else:\n",
    "    leaf_count = count_leaves(segmented_image)\n",
    "    print(\"Leaf Count:\", leaf_count)\n"
   ]
  },
  {
   "cell_type": "code",
   "execution_count": 22,
   "metadata": {},
   "outputs": [
    {
     "name": "stdout",
     "output_type": "stream",
     "text": [
      "Error: Could not read the image.\n",
      "Plant Health Status: Error\n"
     ]
    }
   ],
   "source": [
    "import cv2\n",
    "import numpy as np\n",
    "\n",
    "def detect_health_issues(image_path):\n",
    "    image = cv2.imread(image_path)  # Read the image\n",
    "    if image is None:\n",
    "        print(\"Error: Could not read the image.\")\n",
    "        return \"Error\"\n",
    "    \n",
    "    hsv = cv2.cvtColor(image, cv2.COLOR_BGR2HSV)  # Convert to HSV color space\n",
    "\n",
    "    # Define yellow color range (indicating unhealthy leaves)\n",
    "    yellow_lower = np.array([20, 100, 100])\n",
    "    yellow_upper = np.array([30, 255, 255])\n",
    "    \n",
    "    yellow_mask = cv2.inRange(hsv, yellow_lower, yellow_upper)  # Create mask for yellow areas\n",
    "    unhealthy_pixels = cv2.countNonZero(yellow_mask)  # Count yellow pixels\n",
    "    \n",
    "    return \"Healthy\" if unhealthy_pixels < 500 else \"Unhealthy\"  # Return health status\n",
    "\n",
    "# Example Usage\n",
    "health_status = detect_health_issues(\"oip.jpeg\")  # Use \"oip.jpeg\" for input\n",
    "print(\"Plant Health Status:\", health_status)\n"
   ]
  }
 ],
 "metadata": {
  "kernelspec": {
   "display_name": "IP",
   "language": "python",
   "name": "python3"
  },
  "language_info": {
   "codemirror_mode": {
    "name": "ipython",
    "version": 3
   },
   "file_extension": ".py",
   "mimetype": "text/x-python",
   "name": "python",
   "nbconvert_exporter": "python",
   "pygments_lexer": "ipython3",
   "version": "3.7.1"
  }
 },
 "nbformat": 4,
 "nbformat_minor": 2
}
